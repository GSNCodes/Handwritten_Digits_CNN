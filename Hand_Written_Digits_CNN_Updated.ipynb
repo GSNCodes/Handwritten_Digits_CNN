{
  "nbformat": 4,
  "nbformat_minor": 0,
  "metadata": {
    "colab": {
      "name": "Hand_Written_Digits_CNN.ipynb",
      "provenance": [],
      "collapsed_sections": []
    },
    "kernelspec": {
      "name": "python3",
      "display_name": "Python 3"
    },
    "accelerator": "GPU"
  },
  "cells": [
    {
      "cell_type": "code",
      "metadata": {
        "id": "x4It2ZVR90eo",
        "colab_type": "code",
        "colab": {}
      },
      "source": [
        "from tensorflow.keras.models import Sequential\n",
        "from tensorflow.keras.layers import Dense,Conv2D, Flatten, MaxPooling2D, Dropout,Activation,MaxPool2D\n",
        "from tensorflow.keras.datasets import mnist\n",
        "from tensorflow.keras.utils import to_categorical\n",
        "from tensorflow.keras.layers import BatchNormalization\n",
        "from tensorflow.keras.preprocessing.image import ImageDataGenerator\n",
        "import matplotlib.pyplot as plt\n",
        "import numpy as np"
      ],
      "execution_count": 0,
      "outputs": []
    },
    {
      "cell_type": "code",
      "metadata": {
        "id": "pEUFsnWA-ws1",
        "colab_type": "code",
        "colab": {}
      },
      "source": [
        "(X_Train,Y_Train),(X_Test,Y_Test) = mnist.load_data()"
      ],
      "execution_count": 0,
      "outputs": []
    },
    {
      "cell_type": "code",
      "metadata": {
        "id": "88BHbcJmDJvr",
        "colab_type": "code",
        "colab": {}
      },
      "source": [
        "X_Train = (X_Train/255.0) \n",
        "X_Test  = (X_Test/255.0) "
      ],
      "execution_count": 0,
      "outputs": []
    },
    {
      "cell_type": "code",
      "metadata": {
        "id": "T6_vmt_0_BkN",
        "colab_type": "code",
        "outputId": "85446e9f-88c7-4778-eff4-aac81faca2a2",
        "colab": {
          "base_uri": "https://localhost:8080/",
          "height": 33
        }
      },
      "source": [
        "X_Train.shape"
      ],
      "execution_count": 0,
      "outputs": [
        {
          "output_type": "execute_result",
          "data": {
            "text/plain": [
              "(60000, 28, 28)"
            ]
          },
          "metadata": {
            "tags": []
          },
          "execution_count": 4
        }
      ]
    },
    {
      "cell_type": "code",
      "metadata": {
        "id": "MubpAYo1_J8g",
        "colab_type": "code",
        "outputId": "79578315-744d-4802-a893-30ec5d8d7e8e",
        "colab": {
          "base_uri": "https://localhost:8080/",
          "height": 33
        }
      },
      "source": [
        "X_Test.shape"
      ],
      "execution_count": 0,
      "outputs": [
        {
          "output_type": "execute_result",
          "data": {
            "text/plain": [
              "(10000, 28, 28)"
            ]
          },
          "metadata": {
            "tags": []
          },
          "execution_count": 5
        }
      ]
    },
    {
      "cell_type": "code",
      "metadata": {
        "id": "yxmPIvzJ_Pfm",
        "colab_type": "code",
        "outputId": "6f5bbf8d-df48-47e9-d3d8-159a2df16c15",
        "colab": {
          "base_uri": "https://localhost:8080/",
          "height": 1000
        }
      },
      "source": [
        "X_Train[10]"
      ],
      "execution_count": 0,
      "outputs": [
        {
          "output_type": "execute_result",
          "data": {
            "text/plain": [
              "array([[0.        , 0.        , 0.        , 0.        , 0.        ,\n",
              "        0.        , 0.        , 0.        , 0.        , 0.        ,\n",
              "        0.        , 0.        , 0.        , 0.        , 0.        ,\n",
              "        0.        , 0.        , 0.        , 0.        , 0.        ,\n",
              "        0.        , 0.        , 0.        , 0.        , 0.        ,\n",
              "        0.        , 0.        , 0.        ],\n",
              "       [0.        , 0.        , 0.        , 0.        , 0.        ,\n",
              "        0.        , 0.        , 0.        , 0.        , 0.        ,\n",
              "        0.        , 0.        , 0.        , 0.        , 0.        ,\n",
              "        0.        , 0.        , 0.        , 0.        , 0.        ,\n",
              "        0.        , 0.        , 0.        , 0.        , 0.        ,\n",
              "        0.        , 0.        , 0.        ],\n",
              "       [0.        , 0.        , 0.        , 0.        , 0.        ,\n",
              "        0.        , 0.        , 0.        , 0.        , 0.        ,\n",
              "        0.        , 0.        , 0.        , 0.        , 0.        ,\n",
              "        0.        , 0.        , 0.        , 0.        , 0.        ,\n",
              "        0.        , 0.        , 0.        , 0.        , 0.        ,\n",
              "        0.        , 0.        , 0.        ],\n",
              "       [0.        , 0.        , 0.        , 0.        , 0.        ,\n",
              "        0.        , 0.        , 0.        , 0.        , 0.        ,\n",
              "        0.        , 0.        , 0.        , 0.        , 0.        ,\n",
              "        0.        , 0.        , 0.        , 0.        , 0.        ,\n",
              "        0.        , 0.        , 0.        , 0.        , 0.        ,\n",
              "        0.        , 0.        , 0.        ],\n",
              "       [0.        , 0.        , 0.        , 0.        , 0.        ,\n",
              "        0.        , 0.        , 0.        , 0.        , 0.        ,\n",
              "        0.        , 0.16470588, 0.4627451 , 0.85882353, 0.65098039,\n",
              "        0.4627451 , 0.4627451 , 0.02352941, 0.        , 0.        ,\n",
              "        0.        , 0.        , 0.        , 0.        , 0.        ,\n",
              "        0.        , 0.        , 0.        ],\n",
              "       [0.        , 0.        , 0.        , 0.        , 0.        ,\n",
              "        0.        , 0.        , 0.        , 0.        , 0.        ,\n",
              "        0.40392157, 0.94901961, 0.99607843, 0.99607843, 0.99607843,\n",
              "        0.99607843, 0.99607843, 0.25882353, 0.        , 0.        ,\n",
              "        0.        , 0.        , 0.        , 0.        , 0.        ,\n",
              "        0.        , 0.        , 0.        ],\n",
              "       [0.        , 0.        , 0.        , 0.        , 0.        ,\n",
              "        0.        , 0.        , 0.        , 0.        , 0.        ,\n",
              "        0.07058824, 0.90980392, 0.99607843, 0.99607843, 0.99607843,\n",
              "        0.99607843, 0.99607843, 0.93333333, 0.2745098 , 0.        ,\n",
              "        0.        , 0.        , 0.        , 0.        , 0.        ,\n",
              "        0.        , 0.        , 0.        ],\n",
              "       [0.        , 0.        , 0.        , 0.        , 0.        ,\n",
              "        0.        , 0.        , 0.        , 0.        , 0.        ,\n",
              "        0.        , 0.40784314, 0.95686275, 0.99607843, 0.87843137,\n",
              "        0.99607843, 0.99607843, 0.99607843, 0.55294118, 0.        ,\n",
              "        0.        , 0.        , 0.        , 0.        , 0.        ,\n",
              "        0.        , 0.        , 0.        ],\n",
              "       [0.        , 0.        , 0.        , 0.        , 0.        ,\n",
              "        0.        , 0.        , 0.        , 0.        , 0.        ,\n",
              "        0.        , 0.        , 0.81176471, 0.99607843, 0.82352941,\n",
              "        0.99607843, 0.99607843, 0.99607843, 0.13333333, 0.        ,\n",
              "        0.        , 0.        , 0.        , 0.        , 0.        ,\n",
              "        0.        , 0.        , 0.        ],\n",
              "       [0.        , 0.        , 0.        , 0.        , 0.        ,\n",
              "        0.        , 0.        , 0.        , 0.        , 0.        ,\n",
              "        0.        , 0.        , 0.32941176, 0.80784314, 0.99607843,\n",
              "        0.99607843, 0.99607843, 0.99607843, 0.16078431, 0.        ,\n",
              "        0.        , 0.        , 0.        , 0.        , 0.        ,\n",
              "        0.        , 0.        , 0.        ],\n",
              "       [0.        , 0.        , 0.        , 0.        , 0.        ,\n",
              "        0.        , 0.        , 0.        , 0.        , 0.        ,\n",
              "        0.        , 0.        , 0.        , 0.09411765, 0.81960784,\n",
              "        0.99607843, 0.99607843, 0.99607843, 0.67058824, 0.        ,\n",
              "        0.        , 0.        , 0.        , 0.        , 0.        ,\n",
              "        0.        , 0.        , 0.        ],\n",
              "       [0.        , 0.        , 0.        , 0.        , 0.        ,\n",
              "        0.        , 0.        , 0.        , 0.        , 0.        ,\n",
              "        0.        , 0.        , 0.35686275, 0.5372549 , 0.99215686,\n",
              "        0.99607843, 0.99607843, 0.99607843, 0.43921569, 0.        ,\n",
              "        0.        , 0.        , 0.        , 0.        , 0.        ,\n",
              "        0.        , 0.        , 0.        ],\n",
              "       [0.        , 0.        , 0.        , 0.        , 0.        ,\n",
              "        0.        , 0.        , 0.        , 0.        , 0.        ,\n",
              "        0.15686275, 0.83921569, 0.98039216, 0.99607843, 0.99607843,\n",
              "        0.99607843, 0.99607843, 0.99607843, 0.13333333, 0.        ,\n",
              "        0.        , 0.        , 0.        , 0.        , 0.        ,\n",
              "        0.        , 0.        , 0.        ],\n",
              "       [0.        , 0.        , 0.        , 0.        , 0.        ,\n",
              "        0.        , 0.        , 0.        , 0.        , 0.        ,\n",
              "        0.31764706, 0.96862745, 0.99607843, 0.99607843, 0.99607843,\n",
              "        0.99607843, 0.99607843, 0.99607843, 0.57254902, 0.        ,\n",
              "        0.        , 0.        , 0.        , 0.        , 0.        ,\n",
              "        0.        , 0.        , 0.        ],\n",
              "       [0.        , 0.        , 0.        , 0.        , 0.        ,\n",
              "        0.        , 0.        , 0.        , 0.        , 0.        ,\n",
              "        0.        , 0.43137255, 0.96470588, 0.99607843, 0.99607843,\n",
              "        0.99607843, 0.99607843, 0.99607843, 0.67058824, 0.        ,\n",
              "        0.        , 0.        , 0.        , 0.        , 0.        ,\n",
              "        0.        , 0.        , 0.        ],\n",
              "       [0.        , 0.        , 0.        , 0.        , 0.        ,\n",
              "        0.        , 0.        , 0.        , 0.        , 0.        ,\n",
              "        0.        , 0.        , 0.28627451, 0.34901961, 0.34901961,\n",
              "        0.36470588, 0.94117647, 0.99607843, 0.67058824, 0.        ,\n",
              "        0.        , 0.        , 0.        , 0.        , 0.        ,\n",
              "        0.        , 0.        , 0.        ],\n",
              "       [0.        , 0.        , 0.        , 0.        , 0.        ,\n",
              "        0.        , 0.        , 0.        , 0.        , 0.        ,\n",
              "        0.        , 0.        , 0.        , 0.        , 0.        ,\n",
              "        0.00392157, 0.50196078, 0.99607843, 0.85882353, 0.12156863,\n",
              "        0.        , 0.        , 0.        , 0.        , 0.        ,\n",
              "        0.        , 0.        , 0.        ],\n",
              "       [0.        , 0.        , 0.        , 0.        , 0.        ,\n",
              "        0.        , 0.        , 0.        , 0.        , 0.        ,\n",
              "        0.        , 0.        , 0.        , 0.        , 0.        ,\n",
              "        0.02745098, 0.99607843, 0.99607843, 0.83921569, 0.10980392,\n",
              "        0.        , 0.        , 0.        , 0.        , 0.        ,\n",
              "        0.        , 0.        , 0.        ],\n",
              "       [0.        , 0.        , 0.        , 0.        , 0.        ,\n",
              "        0.        , 0.        , 0.        , 0.        , 0.        ,\n",
              "        0.        , 0.        , 0.        , 0.        , 0.        ,\n",
              "        0.54117647, 0.99607843, 0.99607843, 0.45490196, 0.        ,\n",
              "        0.        , 0.        , 0.        , 0.        , 0.        ,\n",
              "        0.        , 0.        , 0.        ],\n",
              "       [0.        , 0.        , 0.        , 0.        , 0.        ,\n",
              "        0.        , 0.0745098 , 0.69411765, 0.35294118, 0.        ,\n",
              "        0.        , 0.        , 0.        , 0.        , 0.09803922,\n",
              "        0.94117647, 0.99607843, 0.99607843, 0.13333333, 0.        ,\n",
              "        0.        , 0.        , 0.        , 0.        , 0.        ,\n",
              "        0.        , 0.        , 0.        ],\n",
              "       [0.        , 0.        , 0.        , 0.        , 0.        ,\n",
              "        0.        , 0.64313725, 0.99607843, 0.84313725, 0.24705882,\n",
              "        0.14117647, 0.        , 0.2       , 0.34901961, 0.80784314,\n",
              "        0.99607843, 0.99607843, 0.54509804, 0.03137255, 0.        ,\n",
              "        0.        , 0.        , 0.        , 0.        , 0.        ,\n",
              "        0.        , 0.        , 0.        ],\n",
              "       [0.        , 0.        , 0.        , 0.        , 0.        ,\n",
              "        0.        , 0.22352941, 0.77254902, 0.99607843, 0.99607843,\n",
              "        0.87058824, 0.70588235, 0.94509804, 0.99607843, 0.99607843,\n",
              "        0.99215686, 0.83529412, 0.04313725, 0.        , 0.        ,\n",
              "        0.        , 0.        , 0.        , 0.        , 0.        ,\n",
              "        0.        , 0.        , 0.        ],\n",
              "       [0.        , 0.        , 0.        , 0.        , 0.        ,\n",
              "        0.        , 0.        , 0.54901961, 0.41176471, 0.99607843,\n",
              "        0.99607843, 0.99607843, 0.99607843, 0.99607843, 0.99607843,\n",
              "        0.9254902 , 0.        , 0.        , 0.        , 0.        ,\n",
              "        0.        , 0.        , 0.        , 0.        , 0.        ,\n",
              "        0.        , 0.        , 0.        ],\n",
              "       [0.        , 0.        , 0.        , 0.        , 0.        ,\n",
              "        0.        , 0.        , 0.        , 0.02745098, 0.45882353,\n",
              "        0.45882353, 0.64705882, 0.99607843, 0.99607843, 0.9372549 ,\n",
              "        0.19607843, 0.        , 0.        , 0.        , 0.        ,\n",
              "        0.        , 0.        , 0.        , 0.        , 0.        ,\n",
              "        0.        , 0.        , 0.        ],\n",
              "       [0.        , 0.        , 0.        , 0.        , 0.        ,\n",
              "        0.        , 0.        , 0.        , 0.        , 0.        ,\n",
              "        0.        , 0.        , 0.        , 0.        , 0.        ,\n",
              "        0.        , 0.        , 0.        , 0.        , 0.        ,\n",
              "        0.        , 0.        , 0.        , 0.        , 0.        ,\n",
              "        0.        , 0.        , 0.        ],\n",
              "       [0.        , 0.        , 0.        , 0.        , 0.        ,\n",
              "        0.        , 0.        , 0.        , 0.        , 0.        ,\n",
              "        0.        , 0.        , 0.        , 0.        , 0.        ,\n",
              "        0.        , 0.        , 0.        , 0.        , 0.        ,\n",
              "        0.        , 0.        , 0.        , 0.        , 0.        ,\n",
              "        0.        , 0.        , 0.        ],\n",
              "       [0.        , 0.        , 0.        , 0.        , 0.        ,\n",
              "        0.        , 0.        , 0.        , 0.        , 0.        ,\n",
              "        0.        , 0.        , 0.        , 0.        , 0.        ,\n",
              "        0.        , 0.        , 0.        , 0.        , 0.        ,\n",
              "        0.        , 0.        , 0.        , 0.        , 0.        ,\n",
              "        0.        , 0.        , 0.        ],\n",
              "       [0.        , 0.        , 0.        , 0.        , 0.        ,\n",
              "        0.        , 0.        , 0.        , 0.        , 0.        ,\n",
              "        0.        , 0.        , 0.        , 0.        , 0.        ,\n",
              "        0.        , 0.        , 0.        , 0.        , 0.        ,\n",
              "        0.        , 0.        , 0.        , 0.        , 0.        ,\n",
              "        0.        , 0.        , 0.        ]])"
            ]
          },
          "metadata": {
            "tags": []
          },
          "execution_count": 6
        }
      ]
    },
    {
      "cell_type": "code",
      "metadata": {
        "id": "cGts6fKU_s7v",
        "colab_type": "code",
        "outputId": "c6e99378-5b35-4da0-f6db-25471d5245eb",
        "colab": {
          "base_uri": "https://localhost:8080/",
          "height": 33
        }
      },
      "source": [
        "Y_Train[10]"
      ],
      "execution_count": 0,
      "outputs": [
        {
          "output_type": "execute_result",
          "data": {
            "text/plain": [
              "3"
            ]
          },
          "metadata": {
            "tags": []
          },
          "execution_count": 7
        }
      ]
    },
    {
      "cell_type": "code",
      "metadata": {
        "id": "Stdw0ZMT_u4D",
        "colab_type": "code",
        "outputId": "498d573b-b223-4ac2-d252-29a81ba477bd",
        "colab": {
          "base_uri": "https://localhost:8080/",
          "height": 281
        }
      },
      "source": [
        "plt.imshow(X_Train[10])"
      ],
      "execution_count": 0,
      "outputs": [
        {
          "output_type": "execute_result",
          "data": {
            "text/plain": [
              "<matplotlib.image.AxesImage at 0x7f37a1cc9d68>"
            ]
          },
          "metadata": {
            "tags": []
          },
          "execution_count": 8
        },
        {
          "output_type": "display_data",
          "data": {
            "image/png": "[encoded data removed]",
            "text/plain": [
              "<Figure size 432x288 with 1 Axes>"
            ]
          },
          "metadata": {
            "tags": []
          }
        }
      ]
    },
    {
      "cell_type": "code",
      "metadata": {
        "id": "U4OvznHX_zF2",
        "colab_type": "code",
        "colab": {}
      },
      "source": [
        "X_Train = X_Train.reshape(60000,28,28,1)\n",
        "X_Test  = X_Test.reshape(10000,28,28,1)"
      ],
      "execution_count": 0,
      "outputs": []
    },
    {
      "cell_type": "code",
      "metadata": {
        "id": "oSS9ozfoApIF",
        "colab_type": "code",
        "outputId": "979c5f84-2def-46c8-9356-6950a41bcfc0",
        "colab": {
          "base_uri": "https://localhost:8080/",
          "height": 33
        }
      },
      "source": [
        "#1-Hot Encoding\n",
        "\n",
        "y_train_oneh = to_categorical(Y_Train)\n",
        "y_test_oneh  = to_categorical(Y_Test)\n",
        "\n",
        "print(y_train_oneh[10]) "
      ],
      "execution_count": 0,
      "outputs": [
        {
          "output_type": "stream",
          "text": [
            "[0. 0. 0. 1. 0. 0. 0. 0. 0. 0.]\n"
          ],
          "name": "stdout"
        }
      ]
    },
    {
      "cell_type": "code",
      "metadata": {
        "id": "ksWFx0XZ35lF",
        "colab_type": "code",
        "outputId": "b31163fa-0608-4cb6-cae9-4eff29870c21",
        "colab": {
          "base_uri": "https://localhost:8080/",
          "height": 619
        }
      },
      "source": [
        "model=Sequential()\n",
        "model.add(Conv2D(10,kernel_size=5,activation='relu',padding='same',input_shape=(28,28,1)))\n",
        "model.add(BatchNormalization())\n",
        "model.add(Conv2D(8,kernel_size=5,activation='relu'))\n",
        "model.add(MaxPool2D(pool_size=(2,2)))\n",
        "model.add(Dropout(0.2))\n",
        "\n",
        "model.add(Conv2D(10,kernel_size=5,activation='relu',padding='same',input_shape=(28,28,1)))\n",
        "model.add(BatchNormalization())\n",
        "model.add(Conv2D(8,kernel_size=5,activation='relu'))\n",
        "model.add(MaxPool2D(pool_size=(2,2)))\n",
        "model.add(Dropout(0.2))\n",
        "\n",
        "model.add(Flatten())\n",
        "model.add(Dense(10,activation=\"relu\"))\n",
        "model.add(Dropout(0.2))\n",
        "model.add(Dense(10,activation='softmax'))\n",
        "\n",
        "\n",
        "model.summary()"
      ],
      "execution_count": 0,
      "outputs": [
        {
          "output_type": "stream",
          "text": [
            "Model: \"sequential\"\n",
            "_________________________________________________________________\n",
            "Layer (type)                 Output Shape              Param #   \n",
            "=================================================================\n",
            "conv2d (Conv2D)              (None, 28, 28, 10)        260       \n",
            "_________________________________________________________________\n",
            "batch_normalization (BatchNo (None, 28, 28, 10)        40        \n",
            "_________________________________________________________________\n",
            "conv2d_1 (Conv2D)            (None, 24, 24, 8)         2008      \n",
            "_________________________________________________________________\n",
            "max_pooling2d (MaxPooling2D) (None, 12, 12, 8)         0         \n",
            "_________________________________________________________________\n",
            "dropout (Dropout)            (None, 12, 12, 8)         0         \n",
            "_________________________________________________________________\n",
            "conv2d_2 (Conv2D)            (None, 12, 12, 10)        2010      \n",
            "_________________________________________________________________\n",
            "batch_normalization_1 (Batch (None, 12, 12, 10)        40        \n",
            "_________________________________________________________________\n",
            "conv2d_3 (Conv2D)            (None, 8, 8, 8)           2008      \n",
            "_________________________________________________________________\n",
            "max_pooling2d_1 (MaxPooling2 (None, 4, 4, 8)           0         \n",
            "_________________________________________________________________\n",
            "dropout_1 (Dropout)          (None, 4, 4, 8)           0         \n",
            "_________________________________________________________________\n",
            "flatten (Flatten)            (None, 128)               0         \n",
            "_________________________________________________________________\n",
            "dense (Dense)                (None, 10)                1290      \n",
            "_________________________________________________________________\n",
            "dropout_2 (Dropout)          (None, 10)                0         \n",
            "_________________________________________________________________\n",
            "dense_1 (Dense)              (None, 10)                110       \n",
            "=================================================================\n",
            "Total params: 7,766\n",
            "Trainable params: 7,726\n",
            "Non-trainable params: 40\n",
            "_________________________________________________________________\n"
          ],
          "name": "stdout"
        }
      ]
    },
    {
      "cell_type": "code",
      "metadata": {
        "id": "pQI4yYrL4tmn",
        "colab_type": "code",
        "colab": {}
      },
      "source": [
        "model.compile(optimizer='adam',loss='categorical_crossentropy',metrics=['accuracy'])"
      ],
      "execution_count": 0,
      "outputs": []
    },
    {
      "cell_type": "code",
      "metadata": {
        "id": "xLrxTztd4y0T",
        "colab_type": "code",
        "outputId": "e5616751-41b7-4eac-c7a4-f3c17424e4ef",
        "colab": {
          "base_uri": "https://localhost:8080/",
          "height": 1000
        }
      },
      "source": [
        "history = model.fit(X_Train,y_train_oneh, validation_data=(X_Test,y_test_oneh),epochs=50,batch_size=64)"
      ],
      "execution_count": 0,
      "outputs": [
        {
          "output_type": "stream",
          "text": [
            "Epoch 1/50\n",
            "938/938 [==============================] - 5s 6ms/step - loss: 1.1193 - accuracy: 0.6139 - val_loss: 0.1969 - val_accuracy: 0.9526\n",
            "Epoch 2/50\n",
            "938/938 [==============================] - 5s 5ms/step - loss: 0.4598 - accuracy: 0.8425 - val_loss: 0.1072 - val_accuracy: 0.9778\n",
            "Epoch 3/50\n",
            "938/938 [==============================] - 5s 5ms/step - loss: 0.3598 - accuracy: 0.8827 - val_loss: 0.0839 - val_accuracy: 0.9792\n",
            "Epoch 4/50\n",
            "938/938 [==============================] - 5s 5ms/step - loss: 0.3061 - accuracy: 0.9042 - val_loss: 0.0679 - val_accuracy: 0.9833\n",
            "Epoch 5/50\n",
            "938/938 [==============================] - 5s 5ms/step - loss: 0.2457 - accuracy: 0.9277 - val_loss: 0.0578 - val_accuracy: 0.9848\n",
            "Epoch 6/50\n",
            "938/938 [==============================] - 5s 5ms/step - loss: 0.2287 - accuracy: 0.9347 - val_loss: 0.0472 - val_accuracy: 0.9871\n",
            "Epoch 7/50\n",
            "938/938 [==============================] - 5s 5ms/step - loss: 0.2136 - accuracy: 0.9394 - val_loss: 0.0403 - val_accuracy: 0.9892\n",
            "Epoch 8/50\n",
            "938/938 [==============================] - 5s 5ms/step - loss: 0.1965 - accuracy: 0.9447 - val_loss: 0.0457 - val_accuracy: 0.9880\n",
            "Epoch 9/50\n",
            "938/938 [==============================] - 5s 5ms/step - loss: 0.1906 - accuracy: 0.9456 - val_loss: 0.0497 - val_accuracy: 0.9875\n",
            "Epoch 10/50\n",
            "938/938 [==============================] - 5s 5ms/step - loss: 0.1850 - accuracy: 0.9480 - val_loss: 0.0358 - val_accuracy: 0.9901\n",
            "Epoch 11/50\n",
            "938/938 [==============================] - 5s 5ms/step - loss: 0.1787 - accuracy: 0.9505 - val_loss: 0.0377 - val_accuracy: 0.9911\n",
            "Epoch 12/50\n",
            "938/938 [==============================] - 5s 5ms/step - loss: 0.1741 - accuracy: 0.9516 - val_loss: 0.0392 - val_accuracy: 0.9908\n",
            "Epoch 13/50\n",
            "938/938 [==============================] - 5s 5ms/step - loss: 0.1764 - accuracy: 0.9499 - val_loss: 0.0360 - val_accuracy: 0.9911\n",
            "Epoch 14/50\n",
            "938/938 [==============================] - 5s 5ms/step - loss: 0.1701 - accuracy: 0.9514 - val_loss: 0.0338 - val_accuracy: 0.9907\n",
            "Epoch 15/50\n",
            "938/938 [==============================] - 5s 5ms/step - loss: 0.1634 - accuracy: 0.9537 - val_loss: 0.0362 - val_accuracy: 0.9914\n",
            "Epoch 16/50\n",
            "938/938 [==============================] - 5s 5ms/step - loss: 0.1654 - accuracy: 0.9530 - val_loss: 0.0439 - val_accuracy: 0.9893\n",
            "Epoch 17/50\n",
            "938/938 [==============================] - 5s 6ms/step - loss: 0.1607 - accuracy: 0.9547 - val_loss: 0.0403 - val_accuracy: 0.9898\n",
            "Epoch 18/50\n",
            "938/938 [==============================] - 5s 5ms/step - loss: 0.1606 - accuracy: 0.9539 - val_loss: 0.0350 - val_accuracy: 0.9910\n",
            "Epoch 19/50\n",
            "938/938 [==============================] - 5s 6ms/step - loss: 0.1563 - accuracy: 0.9556 - val_loss: 0.0389 - val_accuracy: 0.9909\n",
            "Epoch 20/50\n",
            "938/938 [==============================] - 5s 5ms/step - loss: 0.1524 - accuracy: 0.9571 - val_loss: 0.0381 - val_accuracy: 0.9900\n",
            "Epoch 21/50\n",
            "938/938 [==============================] - 5s 5ms/step - loss: 0.1535 - accuracy: 0.9575 - val_loss: 0.0393 - val_accuracy: 0.9901\n",
            "Epoch 22/50\n",
            "938/938 [==============================] - 5s 5ms/step - loss: 0.1540 - accuracy: 0.9572 - val_loss: 0.0309 - val_accuracy: 0.9935\n",
            "Epoch 23/50\n",
            "938/938 [==============================] - 5s 5ms/step - loss: 0.1513 - accuracy: 0.9575 - val_loss: 0.0319 - val_accuracy: 0.9917\n",
            "Epoch 24/50\n",
            "938/938 [==============================] - 5s 5ms/step - loss: 0.1482 - accuracy: 0.9577 - val_loss: 0.0313 - val_accuracy: 0.9923\n",
            "Epoch 25/50\n",
            "938/938 [==============================] - 5s 6ms/step - loss: 0.1477 - accuracy: 0.9584 - val_loss: 0.0374 - val_accuracy: 0.9922\n",
            "Epoch 26/50\n",
            "938/938 [==============================] - 5s 5ms/step - loss: 0.1487 - accuracy: 0.9585 - val_loss: 0.0328 - val_accuracy: 0.9914\n",
            "Epoch 27/50\n",
            "938/938 [==============================] - 5s 5ms/step - loss: 0.1455 - accuracy: 0.9592 - val_loss: 0.0323 - val_accuracy: 0.9908\n",
            "Epoch 28/50\n",
            "938/938 [==============================] - 5s 5ms/step - loss: 0.1438 - accuracy: 0.9595 - val_loss: 0.0339 - val_accuracy: 0.9917\n",
            "Epoch 29/50\n",
            "938/938 [==============================] - 5s 5ms/step - loss: 0.1453 - accuracy: 0.9599 - val_loss: 0.0392 - val_accuracy: 0.9906\n",
            "Epoch 30/50\n",
            "938/938 [==============================] - 5s 5ms/step - loss: 0.1465 - accuracy: 0.9589 - val_loss: 0.0363 - val_accuracy: 0.9909\n",
            "Epoch 31/50\n",
            "938/938 [==============================] - 5s 5ms/step - loss: 0.1406 - accuracy: 0.9608 - val_loss: 0.0348 - val_accuracy: 0.9924\n",
            "Epoch 32/50\n",
            "938/938 [==============================] - 5s 5ms/step - loss: 0.1424 - accuracy: 0.9602 - val_loss: 0.0373 - val_accuracy: 0.9904\n",
            "Epoch 33/50\n",
            "938/938 [==============================] - 5s 5ms/step - loss: 0.1395 - accuracy: 0.9622 - val_loss: 0.0300 - val_accuracy: 0.9927\n",
            "Epoch 34/50\n",
            "938/938 [==============================] - 5s 5ms/step - loss: 0.1353 - accuracy: 0.9633 - val_loss: 0.0323 - val_accuracy: 0.9924\n",
            "Epoch 35/50\n",
            "938/938 [==============================] - 5s 5ms/step - loss: 0.1382 - accuracy: 0.9625 - val_loss: 0.0418 - val_accuracy: 0.9909\n",
            "Epoch 36/50\n",
            "938/938 [==============================] - 5s 5ms/step - loss: 0.1348 - accuracy: 0.9637 - val_loss: 0.0356 - val_accuracy: 0.9915\n",
            "Epoch 37/50\n",
            "938/938 [==============================] - 5s 5ms/step - loss: 0.1353 - accuracy: 0.9634 - val_loss: 0.0403 - val_accuracy: 0.9909\n",
            "Epoch 38/50\n",
            "938/938 [==============================] - 5s 5ms/step - loss: 0.1339 - accuracy: 0.9630 - val_loss: 0.0422 - val_accuracy: 0.9909\n",
            "Epoch 39/50\n",
            "938/938 [==============================] - 5s 5ms/step - loss: 0.1339 - accuracy: 0.9634 - val_loss: 0.0333 - val_accuracy: 0.9924\n",
            "Epoch 40/50\n",
            "938/938 [==============================] - 5s 5ms/step - loss: 0.1312 - accuracy: 0.9652 - val_loss: 0.0368 - val_accuracy: 0.9916\n",
            "Epoch 41/50\n",
            "938/938 [==============================] - 5s 5ms/step - loss: 0.1328 - accuracy: 0.9643 - val_loss: 0.0350 - val_accuracy: 0.9915\n",
            "Epoch 42/50\n",
            "938/938 [==============================] - 5s 5ms/step - loss: 0.1287 - accuracy: 0.9654 - val_loss: 0.0337 - val_accuracy: 0.9920\n",
            "Epoch 43/50\n",
            "938/938 [==============================] - 5s 5ms/step - loss: 0.1279 - accuracy: 0.9660 - val_loss: 0.0382 - val_accuracy: 0.9914\n",
            "Epoch 44/50\n",
            "938/938 [==============================] - 5s 5ms/step - loss: 0.1248 - accuracy: 0.9669 - val_loss: 0.0382 - val_accuracy: 0.9915\n",
            "Epoch 45/50\n",
            "938/938 [==============================] - 5s 5ms/step - loss: 0.1217 - accuracy: 0.9671 - val_loss: 0.0358 - val_accuracy: 0.9917\n",
            "Epoch 46/50\n",
            "938/938 [==============================] - 5s 6ms/step - loss: 0.1207 - accuracy: 0.9671 - val_loss: 0.0350 - val_accuracy: 0.9927\n",
            "Epoch 47/50\n",
            "938/938 [==============================] - 5s 5ms/step - loss: 0.1235 - accuracy: 0.9663 - val_loss: 0.0347 - val_accuracy: 0.9917\n",
            "Epoch 48/50\n",
            "938/938 [==============================] - 5s 5ms/step - loss: 0.1214 - accuracy: 0.9667 - val_loss: 0.0423 - val_accuracy: 0.9911\n",
            "Epoch 49/50\n",
            "938/938 [==============================] - 5s 5ms/step - loss: 0.1197 - accuracy: 0.9681 - val_loss: 0.0377 - val_accuracy: 0.9922\n",
            "Epoch 50/50\n",
            "938/938 [==============================] - 5s 5ms/step - loss: 0.1207 - accuracy: 0.9682 - val_loss: 0.0294 - val_accuracy: 0.9936\n"
          ],
          "name": "stdout"
        }
      ]
    },
    {
      "cell_type": "markdown",
      "metadata": {
        "id": "oDOCM2SSDh4p",
        "colab_type": "text"
      },
      "source": [
        "**Achieved an accuracy of around ~99.4%**"
      ]
    },
    {
      "cell_type": "code",
      "metadata": {
        "id": "ZWQEDurBEGXZ",
        "colab_type": "code",
        "outputId": "f23297f4-4c0a-48c0-9aaa-c420072b3ce2",
        "colab": {
          "base_uri": "https://localhost:8080/",
          "height": 50
        }
      },
      "source": [
        "# Comparing with some data from the training set\n",
        "\n",
        "predictions = model.predict(X_Test[100:110])\n",
        "print(np.argmax(predictions,axis=1))\n",
        "\n",
        "print(Y_Test[100:110])"
      ],
      "execution_count": 0,
      "outputs": [
        {
          "output_type": "stream",
          "text": [
            "[6 0 5 4 9 9 2 1 9 4]\n",
            "[6 0 5 4 9 9 2 1 9 4]\n"
          ],
          "name": "stdout"
        }
      ]
    },
    {
      "cell_type": "code",
      "metadata": {
        "id": "7KoEBhadIRPx",
        "colab_type": "code",
        "colab": {}
      },
      "source": [
        "for i in range(0,10):\n",
        "  image = np.array(X_Test[i],dtype='float')\n",
        "  image_reshaped = image.reshape((28,28))\n",
        "  plt.imshow(image_reshaped,cmap='gray')\n",
        "  plt.show()"
      ],
      "execution_count": 0,
      "outputs": []
    },
    {
      "cell_type": "code",
      "metadata": {
        "id": "G3Fjur5FNNGc",
        "colab_type": "code",
        "colab": {}
      },
      "source": [
        ""
      ],
      "execution_count": 0,
      "outputs": []
    }
  ]
}